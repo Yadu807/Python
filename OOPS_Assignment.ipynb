{
 "cells": [
  {
   "cell_type": "code",
   "execution_count": 6,
   "id": "550d9bef",
   "metadata": {},
   "outputs": [
    {
     "name": "stdout",
     "output_type": "stream",
     "text": [
      "\n",
      "Enter the length of rectangle 1:  3\n",
      "Enter the width of rectangle 1 : 5\n",
      "\n",
      "Enter the length of rectangle 2 : 7\n",
      "Enter the width of rectangle 2 : 9\n",
      "\n",
      "\tRectangle 2 is greater.\n"
     ]
    }
   ],
   "source": [
    "# CREATE CALSS RECTANGLE WITH PRIVATE ATTRIBUTES LEGTH AND WIDTH - OPERATOR OVERLOADING (COMPARE 2 AREA OF RECTANGLES)\n",
    "\n",
    "class rectangle:\n",
    "    def __init__(self,l,w):\n",
    "        self.length=l\n",
    "        self.width=w\n",
    "        self.a=l*w\n",
    "    def __gt__(self,other):\n",
    "        if self.a<other.a:\n",
    "            print(\"\\n\\tRectangle 1 is greater.\")\n",
    "        else:\n",
    "            print(\"\\n\\tRectangle 2 is greater.\")\n",
    "l1=int(input(\"\\nEnter the length of rectangle 1:  \"))\n",
    "w1=int(input(\"Enter the width of rectangle 1 : \"))\n",
    "l2=int(input(\"\\nEnter the length of rectangle 2 : \"))\n",
    "w2=int(input(\"Enter the width of rectangle 2 : \"))\n",
    "\n",
    "r1=rectangle(l1,w1)\n",
    "r2=rectangle(l2,w2)\n",
    "r1<r2"
   ]
  },
  {
   "cell_type": "code",
   "execution_count": 10,
   "id": "fa2615b3",
   "metadata": {},
   "outputs": [
    {
     "name": "stdout",
     "output_type": "stream",
     "text": [
      "\n",
      "Enter the hour 1 : 4\n",
      "Enter the minute 1  : 54\n",
      "Enter the second 1 : 56\n",
      "\n",
      "Enter the hour 2 : 3\n",
      "Enter the minute 2 : 56\n",
      "Enter the second 2 : 45\n",
      "\n",
      "Added time...\n",
      "\n",
      "\tHour :  8  Minute :  50  Second :  41\n"
     ]
    }
   ],
   "source": [
    "# CREATE A CLASS TIME WITH PRIVATE ATTRIBUTES HOUR,MINUTE AND SECOND -OPERATOR OVERLOADING (SUM OF 2 TIME) \n",
    "\n",
    "class time:\n",
    "    def __init__(self,hr,mint,sec):\n",
    "        self.__h=hr\n",
    "        self.__m=mint\n",
    "        self.__s=sec\n",
    "    def __add__(self,other):\n",
    "        hh=self.__h+other.__h\n",
    "        ss=self.__s+other.__s\n",
    "        mm=self.__m+other.__m\n",
    "        if(ss>=60):\n",
    "            m=int(ss/60)\n",
    "            ss=ss%60\n",
    "        if(mm>=60):\n",
    "            h=int(mm/60)\n",
    "            mm=mm%60\n",
    "            hh+=h\n",
    "            print(\"\\nAdded time...\\n\\n\\tHour : \",hh,\" Minute : \",mm,\" Second : \",ss)\n",
    "\n",
    "h1=int(input(\"\\nEnter the hour 1 : \"))\n",
    "m1=int(input(\"Enter the minute 1  : \"))\n",
    "s1=int(input(\"Enter the second 1 : \"))\n",
    "\n",
    "h2=int(input(\"\\nEnter the hour 2 : \"))\n",
    "m2=int(input(\"Enter the minute 2 : \"))\n",
    "s2=int(input(\"Enter the second 2 : \"))\n",
    "\n",
    "t1=time(h1,m1,s1)\n",
    "t2=time(h2,m2,s2)\n",
    "t1+t2\n"
   ]
  }
 ],
 "metadata": {
  "kernelspec": {
   "display_name": "Python 3 (ipykernel)",
   "language": "python",
   "name": "python3"
  },
  "language_info": {
   "codemirror_mode": {
    "name": "ipython",
    "version": 3
   },
   "file_extension": ".py",
   "mimetype": "text/x-python",
   "name": "python",
   "nbconvert_exporter": "python",
   "pygments_lexer": "ipython3",
   "version": "3.11.5"
  }
 },
 "nbformat": 4,
 "nbformat_minor": 5
}
