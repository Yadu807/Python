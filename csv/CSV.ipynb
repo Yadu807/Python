{
 "cells": [
  {
   "cell_type": "code",
   "execution_count": null,
   "id": "6250e487-4a00-4139-82a8-dd6dcf2b2da7",
   "metadata": {},
   "outputs": [
    {
     "name": "stdin",
     "output_type": "stream",
     "text": [
      "Enter new file name with csv extension: t.csv\n",
      "Enter number of dept: 2\n"
     ]
    }
   ],
   "source": [
    "import csv\n",
    "file1=input(\"Enter new file name with csv extension:\")\n",
    "with open (file1,\"a+\",newline='')as f1:\n",
    "    empdata = [\"deptid\",\"deptname\",\"te\",\"location\"]\n",
    "    l=[]\n",
    "    writer=csv.DictWriter(f1,fieldnames=empdata)\n",
    "    writer.writeheader()\n",
    "    n=int(input(\"Enter number of dept:\"))\n",
    "    for i in range(n):\n",
    "            l=list(input(\"Enter comma seperated deptid,deptname,te,location:\").split(\",\"))\n",
    "            writer.writerow({'deptid':l[0],'deptname':l[1],'te':l[2],'location':l[3]})\n",
    "            l.clear()\n",
    "\n",
    "with open(file1,'r') as f2:\n",
    "    rdr=csv.DictReader(f2)\n",
    "    for items in rdr:\n",
    "        print(items['deptid'],\"   \", items['deptname'])"
   ]
  },
  {
   "cell_type": "code",
   "execution_count": null,
   "id": "5c167744-d017-4be8-addb-d1ddfd60e263",
   "metadata": {},
   "outputs": [],
   "source": []
  }
 ],
 "metadata": {
  "kernelspec": {
   "display_name": "Python 3 (ipykernel)",
   "language": "python",
   "name": "python3"
  },
  "language_info": {
   "codemirror_mode": {
    "name": "ipython",
    "version": 3
   },
   "file_extension": ".py",
   "mimetype": "text/x-python",
   "name": "python",
   "nbconvert_exporter": "python",
   "pygments_lexer": "ipython3",
   "version": "3.10.12"
  }
 },
 "nbformat": 4,
 "nbformat_minor": 5
}
