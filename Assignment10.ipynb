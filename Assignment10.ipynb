{
 "cells": [
  {
   "cell_type": "code",
   "execution_count": 1,
   "id": "a7d363cb",
   "metadata": {},
   "outputs": [
    {
     "name": "stdout",
     "output_type": "stream",
     "text": [
      "Enter numbers with comma separated:1,5,4,9,42,78,100,99,55\n",
      "positive integers from the given list are: [1, 5, 4, 9, 42, 78, 100, 99, 55]\n",
      "square of numbers in the list is [1, 25, 16, 81, 1764, 6084, 10000, 9801, 3025]\n",
      "enter the word:yadukrishnan\n",
      "vowels in yadukrishnan are ['a', 'u', 'i', 'a']\n",
      "ordinal values of ['y', 'a', 'd', 'u', 'k', 'r', 'i', 's', 'h', 'n', 'a', 'n'] are: [121, 97, 100, 117, 107, 114, 105, 115, 104, 110, 97, 110]\n"
     ]
    }
   ],
   "source": [
    "#using list comprehension:\n",
    "\n",
    "#list of positive numbers\n",
    "n=input(\"Enter numbers with comma separated:\").split(\",\")\n",
    "a=map(int,n)\n",
    "new1=[x for x in a if x>0]\n",
    "print(\"positive integers from the given list are:\",new1)\n",
    "d=map(int,n)\n",
    "\n",
    "#square of n numbers\n",
    "new2=[x**2 for x in d]\n",
    "print(\"square of numbers in the list is\",new2)\n",
    "\n",
    "#list of vowels\n",
    "vw=input(\"enter the word:\")\n",
    "vw1=[x for x in vw]\n",
    "vowel=['a','e','i','o','u','A','E','I','O','U']\n",
    "vw2=[x for x in vw1 if x in vowel]\n",
    "print(\"vowels in\",vw,\"are\",vw2)\n",
    "\n",
    "#ordinal values\n",
    "ordinal=[ord(x) for x in vw1]\n",
    "print(\"ordinal values of\",vw1,\"are:\",ordinal)"
   ]
  },
  {
   "cell_type": "code",
   "execution_count": 5,
   "id": "65675ddd",
   "metadata": {},
   "outputs": [
    {
     "name": "stdout",
     "output_type": "stream",
     "text": [
      "List 1 [10, 63, 67, 89, 53, 17]\n",
      "List after removing even Numbers =  [63, 67, 89, 53, 17]\n"
     ]
    }
   ],
   "source": [
    "#Remove even numbers from list\n",
    "\n",
    "\n",
    "list1=[10,63,67,89,53,17]\n",
    "print(\"List 1\",list1)\n",
    "for even in list1:\n",
    "    if (even % 2 == 0):\n",
    "        list1.remove(even)   \n",
    "print(\"List after removing even Numbers = \", list1)"
   ]
  },
  {
   "cell_type": "code",
   "execution_count": 3,
   "id": "80fa2a7e",
   "metadata": {},
   "outputs": [
    {
     "name": "stdout",
     "output_type": "stream",
     "text": [
      "Enter colors for first list with comma separated: red,green\n",
      "Enter colors for second list with comma separated: blue,red\n",
      "Difference of  {'red', 'green'}  and  {'blue', 'red'} : \n",
      "{'green'}\n"
     ]
    }
   ],
   "source": [
    "#Print out all colors from color-list1 not contained in color-list2\n",
    "\n",
    "c1=set(input('Enter colors for first list with comma separated: ').split(','))\n",
    "c2=set(input('Enter colors for second list with comma separated: ').split(','))\n",
    "print('Difference of ',c1,' and ',c2,': ')\n",
    "print(c1.difference(c2))"
   ]
  },
  {
   "cell_type": "code",
   "execution_count": 7,
   "id": "69cfbab9",
   "metadata": {},
   "outputs": [
    {
     "name": "stdout",
     "output_type": "stream",
     "text": [
      "Enter first list with comma separated: 10,20,30\n",
      "Enter second list with comma separated: 10,20,30,40\n",
      "Two lists have unequal length\n",
      "sum of two list are  not equal\n",
      "30  occurs in both list\n",
      "10  occurs in both list\n",
      "20  occurs in both list\n"
     ]
    }
   ],
   "source": [
    "#check two list\n",
    "\n",
    "\n",
    "lst1=set(input('Enter first list with comma separated: ').split(','))\n",
    "lst2=set(input('Enter second list with comma separated: ').split(','))\n",
    "sum1 = str(0)\n",
    "sum2 = str(0)\n",
    "if len(lst1) == len(lst2):\n",
    "    print(\"both list are of equal length\")\n",
    "else:\n",
    "    print(\"Two lists have unequal length\")\n",
    "for x in lst1:\n",
    "    sum1 = sum1 + x\n",
    "for x in lst2:\n",
    "    sum2 = sum2 + x\n",
    "if sum1 == sum2:\n",
    "    a = \"equal\"  \n",
    "else:\n",
    "    a = \"not equal\"  \n",
    "print(\"sum of two list are \", a)  \n",
    "for x in lst1:\n",
    "    for y in lst2:\n",
    "        if x == y:\n",
    "            print(y,\" occurs in both list\")"
   ]
  },
  {
   "cell_type": "code",
   "execution_count": 5,
   "id": "533056e5",
   "metadata": {},
   "outputs": [
    {
     "name": "stdout",
     "output_type": "stream",
     "text": [
      "Enter list comma separated: a,r,c,h,a,n,a\n",
      "{'c', 'h', 'r', 'n', 'a'}\n",
      "occurence of a in {'c', 'h', 'r', 'n', 'a'}  is: 1\n"
     ]
    }
   ],
   "source": [
    "#Store a list of first names.Count the occurrences of ‘a’ within the list.\n",
    "\n",
    "\n",
    "names=set(input('Enter list comma separated: ').split(','))\n",
    "print(names)\n",
    "count=0\n",
    "for name in names:\n",
    "    count+=name.count('a')\n",
    "print(\"occurence of a in\",names,\" is:\",count)"
   ]
  },
  {
   "cell_type": "code",
   "execution_count": 6,
   "id": "8141022b",
   "metadata": {},
   "outputs": [
    {
     "name": "stdout",
     "output_type": "stream",
     "text": [
      "enter an integer('enter stop to stop'):1\n",
      "enter an integer('enter stop to stop'):100\n",
      "enter an integer('enter stop to stop'):340\n",
      "enter an integer('enter stop to stop'):566\n",
      "enter an integer('enter stop to stop'):890\n",
      "enter an integer('enter stop to stop'):20\n",
      "enter an integer('enter stop to stop'):stop\n",
      "[1, 100, 'over', 'over', 'over', 20]\n"
     ]
    }
   ],
   "source": [
    "#list of integers value greater than 100 store 'over\n",
    "\n",
    "\n",
    "values=[]w\n",
    "while True:\n",
    "    value=input(\"enter an integer('enter stop to stop'):\")\n",
    "    if value == 'stop' :\n",
    "        break\n",
    "        \n",
    "    elif int(value)>100:\n",
    "        values.append('over')\n",
    "    else:\n",
    "        values.append(int(value))\n",
    "print(values)"
   ]
  },
  {
   "cell_type": "code",
   "execution_count": null,
   "id": "daf5c6b9",
   "metadata": {
    "collapsed": true
   },
   "outputs": [],
   "source": []
  }
 ],
 "metadata": {
  "kernelspec": {
   "display_name": "Python 3 (ipykernel)",
   "language": "python",
   "name": "python3"
  },
  "language_info": {
   "codemirror_mode": {
    "name": "ipython",
    "version": 3
   },
   "file_extension": ".py",
   "mimetype": "text/x-python",
   "name": "python",
   "nbconvert_exporter": "python",
   "pygments_lexer": "ipython3",
   "version": "3.11.5"
  }
 },
 "nbformat": 4,
 "nbformat_minor": 5
}
