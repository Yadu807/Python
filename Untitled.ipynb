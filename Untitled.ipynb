{
 "cells": [
  {
   "cell_type": "code",
   "execution_count": 1,
   "metadata": {},
   "outputs": [
    {
     "name": "stdout",
     "output_type": "stream",
     "text": [
      "hello\n"
     ]
    }
   ],
   "source": [
    "print(\"hello\")"
   ]
  },
  {
   "cell_type": "code",
   "execution_count": 2,
   "metadata": {
    "collapsed": true
   },
   "outputs": [],
   "source": [
    "a=5\n",
    "b=5\n",
    "c=a+b\n"
   ]
  },
  {
   "cell_type": "markdown",
   "metadata": {},
   "source": [
    "##### "
   ]
  },
  {
   "cell_type": "code",
   "execution_count": 3,
   "metadata": {},
   "outputs": [
    {
     "name": "stdout",
     "output_type": "stream",
     "text": [
      "7\n"
     ]
    }
   ],
   "source": [
    "a=5\n",
    "b=2\n",
    "sum=a+b\n",
    "print(sum)"
   ]
  },
  {
   "cell_type": "code",
   "execution_count": 5,
   "metadata": {},
   "outputs": [
    {
     "name": "stdout",
     "output_type": "stream",
     "text": [
      "enter number:4\n",
      "16\n"
     ]
    }
   ],
   "source": [
    "a=int(input(\"enter number:\"))\n",
    "area=a*a\n",
    "print(area)"
   ]
  },
  {
   "cell_type": "code",
   "execution_count": 6,
   "metadata": {},
   "outputs": [
    {
     "name": "stdout",
     "output_type": "stream",
     "text": [
      "enter number:2\n",
      "enter 2 number:2\n",
      "2.0\n"
     ]
    }
   ],
   "source": [
    "a=int(input(\"enter number:\"))\n",
    "b=int(input(\"enter 2 number:\"))\n",
    "\n",
    "area=(a*b)/2\n",
    "print(area)"
   ]
  },
  {
   "cell_type": "code",
   "execution_count": 8,
   "metadata": {},
   "outputs": [
    {
     "name": "stdout",
     "output_type": "stream",
     "text": [
      "enter number:8\n",
      "previous no 7\n",
      "next no 9\n"
     ]
    }
   ],
   "source": [
    "a=int(input(\"enter number:\"))\n",
    "b=a-1\n",
    "c=a+1\n",
    "print(\"previous no\",b)\n",
    "print(\"next no\",c)"
   ]
  },
  {
   "cell_type": "code",
   "execution_count": null,
   "metadata": {
    "collapsed": true
   },
   "outputs": [],
   "source": []
  },
  {
   "cell_type": "code",
   "execution_count": 9,
   "metadata": {},
   "outputs": [
    {
     "name": "stdout",
     "output_type": "stream",
     "text": [
      "enter your value25000\n",
      "enter your value8\n",
      "enter your value3\n",
      "6000.0\n"
     ]
    }
   ],
   "source": [
    "a=int(input(\"enter your value\"))\n",
    "b=int(input(\"enter your value\"))\n",
    "c=int(input(\"enter your value\"))\n",
    "d=(a*b*c)/100\n",
    "print(\"simple intrest\",d)\n"
   ]
  },
  {
   "cell_type": "code",
   "execution_count": 10,
   "metadata": {},
   "outputs": [
    {
     "name": "stdout",
     "output_type": "stream",
     "text": [
      "enter your value25000\n",
      "enter your value8\n",
      "enter your value3\n",
      "simple intrest 6000.0\n"
     ]
    }
   ],
   "source": [
    "a=int(input(\"enter your value\"))\n",
    "b=int(input(\"enter your value\"))\n",
    "c=int(input(\"enter your value\"))\n",
    "d=(a*b*c)/100\n",
    "print(\"simple intrest\",d)\n",
    "\n"
   ]
  },
  {
   "cell_type": "code",
   "execution_count": 14,
   "metadata": {},
   "outputs": [
    {
     "name": "stdout",
     "output_type": "stream",
     "text": [
      "enter your value2\n",
      "246\n"
     ]
    }
   ],
   "source": [
    "n=int(input(\"enter your value\"))\n",
    "b=(n*10)+n\n",
    "c=(n*100)+b\n",
    "d=n+b+c\n",
    "print(d)"
   ]
  },
  {
   "cell_type": "code",
   "execution_count": 18,
   "metadata": {},
   "outputs": [
    {
     "name": "stdout",
     "output_type": "stream",
     "text": [
      "enter your value2\n",
      "sum is 2 + 22 + 222 is 246\n"
     ]
    }
   ],
   "source": [
    "n=int(input(\"enter your value\"))\n",
    "b=(n*10)+n\n",
    "c=(n*100)+b\n",
    "d=n+b+c\n",
    "print(\"sum is\",n,\"+\",b,\"+\",c,\"is\",d)"
   ]
  },
  {
   "cell_type": "code",
   "execution_count": null,
   "metadata": {
    "collapsed": true
   },
   "outputs": [],
   "source": []
  }
 ],
 "metadata": {
  "kernelspec": {
   "display_name": "Python 3",
   "language": "python",
   "name": "python3"
  },
  "language_info": {
   "codemirror_mode": {
    "name": "ipython",
    "version": 3
   },
   "file_extension": ".py",
   "mimetype": "text/x-python",
   "name": "python",
   "nbconvert_exporter": "python",
   "pygments_lexer": "ipython3",
   "version": "3.6.3"
  }
 },
 "nbformat": 4,
 "nbformat_minor": 2
}
