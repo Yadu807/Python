{
 "cells": [
  {
   "cell_type": "code",
   "execution_count": 8,
   "id": "3b97b4fe",
   "metadata": {},
   "outputs": [
    {
     "name": "stdout",
     "output_type": "stream",
     "text": [
      "Name: yadu\n",
      "Age: 22\n",
      "Name: abhi\n",
      "Age: 25\n",
      "Name: sinsn\n",
      "Age: 22\n",
      "{'yadu': '22', 'abhi': '25', 'sinsn': '22'}\n",
      "dictionary is [('abhi', '25'), ('sinsn', '22'), ('yadu', '22')]\n",
      "dictionary is [('yadu', '22'), ('sinsn', '22'), ('abhi', '25')]\n"
     ]
    }
   ],
   "source": [
    "a = {}\n",
    "\n",
    "for i in range(3):\n",
    "    name = input(\"Name: \")\n",
    "    age = input(\"Age: \")\n",
    "\n",
    "    a[name] = age\n",
    "print(a)\n",
    "l=list(a.items())\n",
    "l.sort()\n",
    "s=list(a.items())\n",
    "s.sort(reverse=True)\n",
    "print(\"dictionary is\",l)\n",
    "print(\"dictionary is\",s)\n",
    "\n"
   ]
  },
  {
   "cell_type": "code",
   "execution_count": 6,
   "id": "1afb2a2a",
   "metadata": {},
   "outputs": [
    {
     "name": "stdout",
     "output_type": "stream",
     "text": [
      "Name: yad\n",
      "Age: 22\n",
      "Name: yadu\n",
      "Age: 35\n",
      "Name: ram\n",
      "Age: 45\n",
      "{'yad': '22', 'yadu': '35', 'ram': '45'}\n",
      "Name: abhi\n",
      "Age: 26\n",
      "Name: karthik\n",
      "Age: 23\n",
      "Name: yadu\n",
      "Age: 25\n",
      "{'abhi': '26', 'karthik': '23', 'yadu': '25'}\n",
      "[('abhi', '26'), ('karthik', '23'), ('ram', '45'), ('yad', '22'), ('yadu', '25')]\n"
     ]
    }
   ],
   "source": [
    "def merge(a, b): \n",
    "    r = a | b\n",
    "    return r\n",
    "a = {}\n",
    "\n",
    "for i in range(3):\n",
    "    name = input(\"Name: \")\n",
    "    age = input(\"Age: \")\n",
    "\n",
    "    a[name] = age\n",
    "print(a)\n",
    "b={}\n",
    "\n",
    "for i in range(3):\n",
    "    name = input(\"Name: \")\n",
    "    age = input(\"Age: \")\n",
    "\n",
    "    b[name] = age\n",
    "print(b)\n",
    "c=merge(a,b)\n",
    "\n",
    "l=list(c.items())\n",
    "l.sort()\n",
    "print(l)\n"
   ]
  },
  {
   "cell_type": "code",
   "execution_count": null,
   "id": "1a5a59c9",
   "metadata": {},
   "outputs": [],
   "source": []
  },
  {
   "cell_type": "code",
   "execution_count": null,
   "id": "7bdf1bbd",
   "metadata": {},
   "outputs": [],
   "source": []
  }
 ],
 "metadata": {
  "kernelspec": {
   "display_name": "Python 3 (ipykernel)",
   "language": "python",
   "name": "python3"
  },
  "language_info": {
   "codemirror_mode": {
    "name": "ipython",
    "version": 3
   },
   "file_extension": ".py",
   "mimetype": "text/x-python",
   "name": "python",
   "nbconvert_exporter": "python",
   "pygments_lexer": "ipython3",
   "version": "3.10.12"
  }
 },
 "nbformat": 4,
 "nbformat_minor": 5
}
