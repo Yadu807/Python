{
 "cells": [
  {
   "cell_type": "code",
   "execution_count": 12,
   "id": "2233f229",
   "metadata": {},
   "outputs": [
    {
     "name": "stdout",
     "output_type": "stream",
     "text": [
      "enter the number with , seprated10,20,30,40\n",
      "the list is ['10', '20', '30', '40']\n"
     ]
    }
   ],
   "source": [
    "n=input(\"enter the number with , seprated\")\n",
    "p=n.split(\",\")\n",
    "print(\"the list is\",p)"
   ]
  },
  {
   "cell_type": "code",
   "execution_count": 13,
   "id": "28998105",
   "metadata": {},
   "outputs": [
    {
     "name": "stdout",
     "output_type": "stream",
     "text": [
      "enter colorsred,yellow,violet,blue\n",
      "the list is ['red', 'yellow', 'violet', 'blue']\n",
      "first color is red\n",
      "last color is blue\n"
     ]
    }
   ],
   "source": [
    "a=input(\"enter colors\")\n",
    "s=a.split(\",\")\n",
    "print(\"the list is\",s)\n",
    "print(\"first color is\",s[0])\n",
    "print(\"last color is\",s[-1])"
   ]
  },
  {
   "cell_type": "code",
   "execution_count": 17,
   "id": "83c359cb",
   "metadata": {},
   "outputs": [
    {
     "name": "stdout",
     "output_type": "stream",
     "text": [
      "enter file nameyadu.html\n",
      "the list is ['yadu', 'html']\n",
      "extension is html\n"
     ]
    }
   ],
   "source": [
    "a=input(\"enter file name\")\n",
    "s=a.split(\".\")\n",
    "print(\"the list is\",s)\n",
    "print(\"extension is\",s[-1])"
   ]
  },
  {
   "cell_type": "code",
   "execution_count": null,
   "id": "39b93e46",
   "metadata": {},
   "outputs": [],
   "source": []
  }
 ],
 "metadata": {
  "kernelspec": {
   "display_name": "Python 3 (ipykernel)",
   "language": "python",
   "name": "python3"
  },
  "language_info": {
   "codemirror_mode": {
    "name": "ipython",
    "version": 3
   },
   "file_extension": ".py",
   "mimetype": "text/x-python",
   "name": "python",
   "nbconvert_exporter": "python",
   "pygments_lexer": "ipython3",
   "version": "3.10.12"
  }
 },
 "nbformat": 4,
 "nbformat_minor": 5
}

