{
 "cells": [
  {
   "cell_type": "code",
   "execution_count": 4,
   "id": "0e22ec8e",
   "metadata": {},
   "outputs": [
    {
     "name": "stdout",
     "output_type": "stream",
     "text": [
      "enter a number34\n",
      "numberis positive\n"
     ]
    }
   ],
   "source": [
    "n=int(input(\"enter a number\"))\n",
    "if(n<0):\n",
    "    print(\"number is negative\")\n",
    "elif(n>0):\n",
    "    print(\"numberis positive\")\n",
    "else:\n",
    "    print(\"number is 0)\")"
   ]
  },
  {
   "cell_type": "code",
   "execution_count": 6,
   "id": "04a2f564",
   "metadata": {},
   "outputs": [
    {
     "name": "stdout",
     "output_type": "stream",
     "text": [
      "enter 1st number12\n",
      "enter 2nd number34\n",
      "enter 3rd number1\n",
      "34 is greatest\n"
     ]
    }
   ],
   "source": [
    "a=int(input(\"enter 1st number\"))\n",
    "b=int(input(\"enter 2nd number\"))\n",
    "c=int(input(\"enter 3rd number\"))\n",
    "if(a>b):\n",
    "    if(a>c):\n",
    "        print(a,\"is greatest\")\n",
    "elif(b>c):\n",
    "    print(b,\"is greatest\")\n",
    "else:\n",
    "    print(c,\"is greatest\")"
   ]
  },
  {
   "cell_type": "code",
   "execution_count": 3,
   "id": "a818e546",
   "metadata": {},
   "outputs": [
    {
     "name": "stdout",
     "output_type": "stream",
     "text": [
      "enter 1st number5\n",
      "enter 2nd number7\n",
      "1.ADDITION\n",
      "2.SUBSTRACTION\n",
      "3.MULTIPLICATION\n",
      "4.DIVISION\n",
      "enter your choice4\n",
      "division= 0.7142857142857143\n"
     ]
    }
   ],
   "source": [
    "a=int(input(\"enter 1st number\"))\n",
    "b=int(input(\"enter 2nd number\"))\n",
    "print(\"1.ADDITION\")\n",
    "print(\"2.SUBSTRACTION\")\n",
    "print(\"3.MULTIPLICATION\")\n",
    "print(\"4.DIVISION\")\n",
    "c=int(input(\"enter your choice\"))\n",
    "if(c==1):\n",
    "    sum=a+b\n",
    "    print(\"sum is\",sum)\n",
    "elif(c==2):\n",
    "    sub=a-b\n",
    "    print(\"substraction is\",sub)\n",
    "elif(c==3):\n",
    "    mul=a*b\n",
    "    print(\"multplication=\",mul)\n",
    "elif(c==4):\n",
    "    div=a/b\n",
    "    print(\"division=\",div)\n",
    "else:\n",
    "    print(\"INVALID\")"
   ]
  },
  {
   "cell_type": "code",
   "execution_count": null,
   "id": "d8719776",
   "metadata": {},
   "outputs": [],
   "source": []
  },
  {
   "cell_type": "code",
   "execution_count": null,
   "id": "940c8205",
   "metadata": {},
   "outputs": [],
   "source": []
  }
 ],
 "metadata": {
  "kernelspec": {
   "display_name": "Python 3 (ipykernel)",
   "language": "python",
   "name": "python3"
  },
  "language_info": {
   "codemirror_mode": {
    "name": "ipython",
    "version": 3
   },
   "file_extension": ".py",
   "mimetype": "text/x-python",
   "name": "python",
   "nbconvert_exporter": "python",
   "pygments_lexer": "ipython3",
   "version": "3.10.12"
  }
 },
 "nbformat": 4,
 "nbformat_minor": 5
}
