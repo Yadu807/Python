{
 "cells": [
  {
   "cell_type": "code",
   "execution_count": 1,
   "metadata": {},
   "outputs": [
    {
     "name": "stdout",
     "output_type": "stream",
     "text": [
      "enter number:5\n",
      "output= 25\n"
     ]
    }
   ],
   "source": [
    "##area of squre\n",
    "a=int(input(\"enter number:\"))\n",
    "area=a*a\n",
    "print(\"output=\",area)"
   ]
  },
  {
   "cell_type": "code",
   "execution_count": 2,
   "metadata": {},
   "outputs": [
    {
     "name": "stdout",
     "output_type": "stream",
     "text": [
      "enter number:4\n",
      "enter 2nd number:3\n",
      "output= 6.0\n"
     ]
    }
   ],
   "source": [
    "##area of right angled triangle\n",
    "a=int(input(\"enter number:\"))\n",
    "b=int(input(\"enter 2nd number:\"))\n",
    "\n",
    "area=(a*b)/2\n",
    "print(\"output=\",area)"
   ]
  },
  {
   "cell_type": "code",
   "execution_count": 8,
   "metadata": {},
   "outputs": [
    {
     "name": "stdout",
     "output_type": "stream",
     "text": [
      "enter number:8\n",
      "previous no 7\n",
      "next no 9\n"
     ]
    }
   ],
   "source": [
    "## previous and next number\n",
    "a=int(input(\"enter number:\"))\n",
    "b=a-1\n",
    "c=a+1\n",
    "print(\"previous no\",b)\n",
    "print(\"next no\",c)"
   ]
  },
  {
   "cell_type": "code",
   "execution_count": 10,
   "metadata": {},
   "outputs": [
    {
     "name": "stdout",
     "output_type": "stream",
     "text": [
      "enter your value25000\n",
      "enter your value8\n",
      "enter your value3\n",
      "simple intrest 6000.0\n"
     ]
    }
   ],
   "source": [
    "##compute simple intrest\n",
    "a=int(input(\"enter your value\"))\n",
    "b=int(input(\"enter your value\"))\n",
    "c=int(input(\"enter your value\"))\n",
    "d=(a*b*c)/100\n",
    "print(\"simple intrest\",d)\n",
    "\n"
   ]
  },
  {
   "cell_type": "code",
   "execution_count": 18,
   "metadata": {},
   "outputs": [
    {
     "name": "stdout",
     "output_type": "stream",
     "text": [
      "enter your value2\n",
      "sum is 2 + 22 + 222 is 246\n"
     ]
    }
   ],
   "source": [
    "##compute n+nn+nnn\n",
    "n=int(input(\"enter your value\"))\n",
    "b=(n*10)+n\n",
    "c=(n*100)+b\n",
    "d=n+b+c\n",
    "print(\"sum is\",n,\"+\",b,\"+\",c,\"is\",d)"
   ]
  },
  {
   "cell_type": "code",
   "execution_count": null,
   "metadata": {
    "collapsed": true
   },
   "outputs": [],
   "source": []
  }
 ],
 "metadata": {
  "kernelspec": {
   "display_name": "Python 3 (ipykernel)",
   "language": "python",
   "name": "python3"
  },
  "language_info": {
   "codemirror_mode": {
    "name": "ipython",
    "version": 3
   },
   "file_extension": ".py",
   "mimetype": "text/x-python",
   "name": "python",
   "nbconvert_exporter": "python",
   "pygments_lexer": "ipython3",
   "version": "3.10.12"
  }
 },
 "nbformat": 4,
 "nbformat_minor": 2
}
