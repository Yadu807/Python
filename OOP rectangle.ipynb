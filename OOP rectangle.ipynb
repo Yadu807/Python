{
 "cells": [
  {
   "cell_type": "code",
   "execution_count": 15,
   "id": "34183b2b",
   "metadata": {},
   "outputs": [
    {
     "name": "stdout",
     "output_type": "stream",
     "text": [
      "Enter length of rectangle 1:10\n",
      "Enter breadth of rectangle 1:12\n",
      "Enter length of rectangle 2:16\n",
      "Enter breadth of rectangle 2:18\n",
      "Area of rectangle 1 120\n",
      "Area of rectangle 2 288\n",
      "perimeter of rectangle 1 44\n",
      "perimeter of rectangle 2 68\n",
      "Rectangle 2 is greater\n"
     ]
    }
   ],
   "source": [
    "class rectangle():\n",
    "    def get(self,l,b):\n",
    "        self.l=l\n",
    "        self.b=b\n",
    "    def area(self,l,b):\n",
    "        return l*b\n",
    "    def perimeter(self,l,b):\n",
    "        return 2*(l+b)\n",
    "r1=rectangle()\n",
    "r2=rectangle()\n",
    "l1=int(input(\"Enter length of rectangle 1:\"))\n",
    "b1=int(input(\"Enter breadth of rectangle 1:\"))\n",
    "l2=int(input(\"Enter length of rectangle 2:\"))\n",
    "b2=int(input(\"Enter breadth of rectangle 2:\"))\n",
    "p=r1.area(l1,b1)\n",
    "p1=r1.perimeter(l1,b1)\n",
    "q=r2.area(l2,b2)\n",
    "q1=r2.perimeter(l2,b2)\n",
    "print(\"Area of rectangle 1\",p)\n",
    "print(\"Area of rectangle 2\",q)\n",
    "print(\"perimeter of rectangle 1\",p1)\n",
    "print(\"perimeter of rectangle 2\",q1)\n",
    "if(p>q):\n",
    "    print(\"Rectangle 1 is greater\")\n",
    "elif(p<q):\n",
    "    print(\"Rectangle 2 is greater\")\n",
    "else:\n",
    "    print(\"Rectangles are equal\")\n",
    "    "
   ]
  },
  {
   "cell_type": "code",
   "execution_count": null,
   "id": "e4f09d28",
   "metadata": {},
   "outputs": [],
   "source": []
  }
 ],
 "metadata": {
  "kernelspec": {
   "display_name": "Python 3 (ipykernel)",
   "language": "python",
   "name": "python3"
  },
  "language_info": {
   "codemirror_mode": {
    "name": "ipython",
    "version": 3
   },
   "file_extension": ".py",
   "mimetype": "text/x-python",
   "name": "python",
   "nbconvert_exporter": "python",
   "pygments_lexer": "ipython3",
   "version": "3.11.5"
  }
 },
 "nbformat": 4,
 "nbformat_minor": 5
}
