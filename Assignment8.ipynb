{
 "cells": [
  {
   "cell_type": "code",
   "execution_count": 3,
   "id": "ca15519e",
   "metadata": {},
   "outputs": [
    {
     "name": "stdout",
     "output_type": "stream",
     "text": [
      "enter numbers  :122345\n",
      "tuple= ('1', '2', '2', '3', '4', '5')\n",
      "reverse= ('5', '4', '3', '2', '2', '1')\n"
     ]
    }
   ],
   "source": [
    "#reverse a tuple\n",
    "t=tuple(input(\"enter numbers  :\"))\n",
    "print(\"tuple=\",t)\n",
    "print(\"reverse=\",t[::-1])"
   ]
  },
  {
   "cell_type": "code",
   "execution_count": 6,
   "id": "245bc641",
   "metadata": {},
   "outputs": [
    {
     "name": "stdout",
     "output_type": "stream",
     "text": [
      "enter numbers seprated by commas :1,2,3,4,5\n",
      "tuple= ('1', '2', '3', '4', '5')\n",
      "Average value of the numbers in given tuple : 3.0\n"
     ]
    }
   ],
   "source": [
    "#Average of tuple\n",
    "\n",
    "t=tuple(input(\"enter numbers seprated by commas :\").split(\",\"))\n",
    "print(\"tuple=\",t)\n",
    "l=len(t)\n",
    "a=0\n",
    "for i in range(l):\n",
    "    a=int(t[i])+a\n",
    "    avg=a/l\n",
    "print(\"Average value of the numbers in given tuple :\",avg)\n",
    "\n"
   ]
  },
  {
   "cell_type": "code",
   "execution_count": 6,
   "id": "e7dbfa90",
   "metadata": {},
   "outputs": [
    {
     "name": "stdout",
     "output_type": "stream",
     "text": [
      "enter numbers seprated by commas :10,20,30,40,50\n",
      "tuple= ('10', '20', '30', '40', '50')\n",
      "item to remove30\n",
      "('10', '20', '40', '50')\n"
     ]
    }
   ],
   "source": [
    "#remove item from tuple\n",
    "t=tuple(input(\"enter numbers seprated by commas :\").split(\",\"))\n",
    "print(\"tuple=\",t)\n",
    "b=input(\"item to remove\")\n",
    "r=t.index(b)\n",
    "t2=tuple(t[ :r]+t[r+1: ])\n",
    "print(t2)"
   ]
  },
  {
   "cell_type": "code",
   "execution_count": null,
   "id": "2c32c010",
   "metadata": {},
   "outputs": [],
   "source": []
  },
  {
   "cell_type": "code",
   "execution_count": null,
   "id": "7e78245b",
   "metadata": {},
   "outputs": [],
   "source": []
  }
 ],
 "metadata": {
  "kernelspec": {
   "display_name": "Python 3 (ipykernel)",
   "language": "python",
   "name": "python3"
  },
  "language_info": {
   "codemirror_mode": {
    "name": "ipython",
    "version": 3
   },
   "file_extension": ".py",
   "mimetype": "text/x-python",
   "name": "python",
   "nbconvert_exporter": "python",
   "pygments_lexer": "ipython3",
   "version": "3.10.12"
  }
 },
 "nbformat": 4,
 "nbformat_minor": 5
}
