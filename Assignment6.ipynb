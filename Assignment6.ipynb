{
 "cells": [
  {
   "cell_type": "code",
   "execution_count": 3,
   "id": "aed6836e",
   "metadata": {},
   "outputs": [
    {
     "name": "stdout",
     "output_type": "stream",
     "text": [
      "Enter your number5\n",
      "factorial is 120\n"
     ]
    }
   ],
   "source": [
    "#Factorial\n",
    "n=int(input(\"Enter your number\"))\n",
    "f=1\n",
    "for i in range(1,n+1):\n",
    "    f=f*i\n",
    "print(\"factorial is\",f)"
   ]
  },
  {
   "cell_type": "code",
   "execution_count": 4,
   "id": "8559fd3b",
   "metadata": {},
   "outputs": [
    {
     "name": "stdout",
     "output_type": "stream",
     "text": [
      "Enter your number10\n",
      "0\n",
      "1\n",
      "1\n",
      "2\n",
      "3\n",
      "5\n",
      "8\n",
      "13\n",
      "21\n",
      "34\n",
      "55\n",
      "89\n"
     ]
    }
   ],
   "source": [
    "#fibonocci\n",
    "n=int(input(\"Enter your number\"))\n",
    "a=0\n",
    "b=1\n",
    "print(a)\n",
    "print(b)\n",
    "for i in range(n):\n",
    "    c=a+b\n",
    "    a=b\n",
    "    b=c\n",
    "    print(c)"
   ]
  },
  {
   "cell_type": "code",
   "execution_count": 9,
   "id": "337b0c1c",
   "metadata": {},
   "outputs": [
    {
     "name": "stdout",
     "output_type": "stream",
     "text": [
      "Enter your number500\n",
      "Enter your number800\n",
      "GCD of 500 and 800 is 100\n"
     ]
    }
   ],
   "source": [
    "#GCD\n",
    "a=int(input(\"Enter your number\"))\n",
    "b=int(input(\"Enter your number\"))\n",
    "if(a<b):\n",
    "    temp=b\n",
    "else:\n",
    "    temp=a\n",
    "while(temp>0):\n",
    "    if(a%temp==0)and(b%temp==0):\n",
    "        print(\"GCD of\",a,\"and\",b,\"is\",temp)\n",
    "        break;\n",
    "    temp=temp-1\n",
    "       "
   ]
  },
  {
   "cell_type": "code",
   "execution_count": 19,
   "id": "d645e043",
   "metadata": {},
   "outputs": [
    {
     "name": "stdout",
     "output_type": "stream",
     "text": [
      "enter list of numbers :1,2,3,4,5\n",
      "sum of the elements ['1', '2', '3', '4', '5'] = 15\n"
     ]
    }
   ],
   "source": [
    "    #sum of items in a list\n",
    "\n",
    "a=list(input(\"enter list of numbers :\").split(\",\"))\n",
    "b=len(a)\n",
    "c=0\n",
    "i=0\n",
    "for i in range(b):\n",
    "        d=int(a[i])\n",
    "        c=c+d\n",
    "print(\"sum of the elements\",a,\"=\",c)\n"
   ]
  },
  {
   "cell_type": "code",
   "execution_count": 18,
   "id": "90fd257e",
   "metadata": {},
   "outputs": [
    {
     "name": "stdout",
     "output_type": "stream",
     "text": [
      "enter numbers supperated by commas :1,2,3,4,5\n",
      "tuple= ('1', '2', '3', '4', '5')\n",
      "Average value of the numbers in given tuple : 3.0\n"
     ]
    }
   ],
   "source": [
    "#Average of tuple\n",
    "\n",
    "t=tuple(input(\"enter numbers seprated by commas :\").split(\",\"))\n",
    "print(\"tuple=\",t)\n",
    "l=len(t)\n",
    "a=0\n",
    "for i in range(l):\n",
    "    a=int(t[i])+a\n",
    "    avg=a/l\n",
    "print(\"Average value of the numbers in given tuple :\",avg)\n",
    "\n"
   ]
  },
  {
   "cell_type": "code",
   "execution_count": 22,
   "id": "a1a525af",
   "metadata": {},
   "outputs": [
    {
     "name": "stdout",
     "output_type": "stream",
     "text": [
      "enter a string :mallayallam\n",
      "m is repeated 2 time's\n",
      "a is repeated 4 time's\n",
      "l is repeated 4 time's\n",
      "y is repeated 1 time's\n"
     ]
    }
   ],
   "source": [
    "#Freaquency of characters in a string\n",
    "\n",
    "s=input(\"enter a string :\")\n",
    "f={}\n",
    "for i in s:\n",
    "    if i in f:\n",
    "        f[i]=f[i]+1\n",
    "    else:\n",
    "        f[i]=1\n",
    "for keys,value in f.items():\n",
    "    print(keys,\"is repeated\",value,\"time's\")\n",
    "    \n",
    "    "
   ]
  },
  {
   "cell_type": "code",
   "execution_count": null,
   "id": "6714abde",
   "metadata": {},
   "outputs": [],
   "source": []
  },
  {
   "cell_type": "code",
   "execution_count": null,
   "id": "b65614eb",
   "metadata": {},
   "outputs": [],
   "source": []
  }
 ],
 "metadata": {
  "kernelspec": {
   "display_name": "Python 3 (ipykernel)",
   "language": "python",
   "name": "python3"
  },
  "language_info": {
   "codemirror_mode": {
    "name": "ipython",
    "version": 3
   },
   "file_extension": ".py",
   "mimetype": "text/x-python",
   "name": "python",
   "nbconvert_exporter": "python",
   "pygments_lexer": "ipython3",
   "version": "3.10.12"
  }
 },
 "nbformat": 4,
 "nbformat_minor": 5
}
