
{
 "cells": [
  {
   "cell_type": "code",
   "execution_count": 2,
   "metadata": {},
   "outputs": [
    {
     "name": "stdout",
     "output_type": "stream",
     "text": [
      "Enter area of circle= 2\n",
      "Area of circle 12.566370614359172\n"
     ]
    }
   ],
   "source": [
    "##find area of circle\n",
    "from math import pi\n",
    "r=int(input(\"Enter area of circle= \"))\n",
    "area=pi*r*r\n",
    "print(\"Area of circle\",area)\n"
   ]
  },
  {
   "cell_type": "code",
   "execution_count": 3,
   "metadata": {},
   "outputs": [
    {
     "name": "stdout",
     "output_type": "stream",
     "text": [
      "Enter celcius= 34\n",
      "Temprature in farenhiet is 93.2\n"
     ]
    }
   ],
   "source": [
    "##convert celcius to farenheit \n",
    "c=int(input(\"Enter celcius= \"))\n",
    "f=c*(9/5)+32\n",
    "print(\"Temprature in farenhiet is\",f)"
   ]
  },
  {
   "cell_type": "code",
   "execution_count": 1,
   "metadata": {},
   "outputs": [
    {
     "name": "stdout",
     "output_type": "stream",
     "text": [
      "Enter Kilometer= 100\n",
      "miles=  62.0\n"
     ]
    }
   ],
   "source": [
    "##convert kilometer to miles\n",
    "c=int(input(\"Enter Kilometer= \"))\n",
    "f=c*0.62\n",
    "print(\"miles= \",f)"
   ]
  },
  {
   "cell_type": "code",
   "execution_count": 6,
   "metadata": {},
   "outputs": [
    {
     "name": "stdout",
     "output_type": "stream",
     "text": [
      "Enter first no= 5\n",
      "Enter second no=6\n",
      "6 is greater\n"
     ]
    }
   ],
   "source": [
    "##finding gratest of 2 number\n",
    "a=int(input(\"Enter first no= \"))\n",
    "b=int(input(\"Enter second no=\"))\n",
    "if a<b:\n",
    " print(b,\"is greater\")\n",
    "else:\n",
    " print(a,\"is greater\")"
   ]
  }
 ],
 "metadata": {
  "kernelspec": {
   "display_name": "Python 3 (ipykernel)",
   "language": "python",
   "name": "python3"
  },
  "language_info": {
   "codemirror_mode": {
    "name": "ipython",
    "version": 3
   },
   "file_extension": ".py",
   "mimetype": "text/x-python",
   "name": "python",
   "nbconvert_exporter": "python",
   "pygments_lexer": "ipython3",
   "version": "3.10.12"
  }
 },
 "nbformat": 4,
 "nbformat_minor": 2
}
