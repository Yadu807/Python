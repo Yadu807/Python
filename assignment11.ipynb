{
 "cells": [
  {
   "cell_type": "code",
   "execution_count": 1,
   "id": "6201bfbf",
   "metadata": {},
   "outputs": [
    {
     "name": "stdout",
     "output_type": "stream",
     "text": [
      "Enter first year:2023\n",
      "Enter second year:2040\n",
      "leap year between  2023 and 2040 :\n",
      "2024\n",
      "2028\n",
      "2032\n",
      "2036\n",
      "2040\n"
     ]
    }
   ],
   "source": [
    "def leap(i,u):\n",
    "    print(\"leap year between \",i,\"and\",u,\":\")\n",
    "    for i in range(i,u+1):\n",
    "        if(i%4==0)and(i%100!=0)or(i%400==0):\n",
    "            print(i)\n",
    "a=int(input(\"Enter first year:\"))\n",
    "b=int(input(\"Enter second year:\"))\n",
    "leap(a,b)"
   ]
  },
  {
   "cell_type": "code",
   "execution_count": 3,
   "id": "2c9544fc",
   "metadata": {},
   "outputs": [
    {
     "name": "stdout",
     "output_type": "stream",
     "text": [
      " 1.squre \n",
      " 2.Rectangle\n",
      " 3.Triangle\n",
      " 4.Exit\n",
      "Enter your choice3\n",
      "Enter breadth5\n",
      "Enter height7\n",
      "Area of Triangle 17.5\n",
      " 1.squre \n",
      " 2.Rectangle\n",
      " 3.Triangle\n",
      " 4.Exit\n",
      "Enter your choice4\n",
      "Exiting\n"
     ]
    }
   ],
   "source": [
    "sqr=lambda a:a*a\n",
    "rect=lambda l,b:l*b\n",
    "tri=lambda b,h:(b*h)/2\n",
    "while(1):\n",
    "    print(\" 1.squre \\n 2.Rectangle\\n 3.Triangle\\n 4.Exit\")\n",
    "    ch=int(input(\"Enter your choice\"))\n",
    "    if(ch==1):\n",
    "        a=int(input(\"Enter side\"))\n",
    "        print(\"Area of squre\",sqr(a))\n",
    "    elif(ch==2):\n",
    "        l=int(input(\"Enter length\"))\n",
    "        b=int(input(\"Enter breadth\"))     \n",
    "        print(\"Area of Rectangle\",rect(l,b))\n",
    "    elif(ch==3):\n",
    "        b=int(input(\"Enter breadth\"))\n",
    "        h=int(input(\"Enter height\"))     \n",
    "        print(\"Area of Triangle\",tri(b,h))\n",
    "    else:\n",
    "        print(\"Exiting\")\n",
    "        break\n",
    "             "
   ]
  },
  {
   "cell_type": "code",
   "execution_count": 6,
   "id": "ba0b1027",
   "metadata": {},
   "outputs": [
    {
     "name": "stdout",
     "output_type": "stream",
     "text": [
      "Enter 4 digit lower range:1234\n",
      "Enter 4 digit upper range: 9000\n",
      "list: [4624, 6084, 6400, 8464]\n"
     ]
    }
   ],
   "source": [
    "import math\n",
    "n1=int(input(\"Enter 4 digit lower range:\"))\n",
    "n2=int(input(\"Enter 4 digit upper range: \"))\n",
    "l=[]\n",
    "x=0\n",
    "for i in range (n1,n2):\n",
    "    x=i\n",
    "    while(x!=0):\n",
    "        k1=x%10\n",
    "        x=int(x/10)\n",
    "        k2=x%10\n",
    "        x=int(x/10)\n",
    "        k3=x%10\n",
    "        x=int(x/10)\n",
    "        k4 = x % 10\n",
    "        x = int(x / 10)\n",
    "        sq=int(math.sqrt(i))\n",
    "        if (sq*sq==i):\n",
    "            if (k1%2==0 and k2%2==0 and k3%2==0 and k4%2==0):\n",
    "                l.append(i)\n",
    "print(\"list:\",l)\n",
    "   "
   ]
  },
  {
   "cell_type": "code",
   "execution_count": 9,
   "id": "f228564a",
   "metadata": {},
   "outputs": [
    {
     "name": "stdout",
     "output_type": "stream",
     "text": [
      "Enter a wordengineering\n",
      "New word: engineeringly\n"
     ]
    }
   ],
   "source": [
    "word=input(\"Enter a word\")\n",
    "str1=word[-3:]\n",
    "if str1=='ing':\n",
    "    word=word+'ly'\n",
    "else:\n",
    "    word=word+'ing'\n",
    "print(\"New word:\",word)"
   ]
  },
  {
   "cell_type": "markdown",
   "id": "67375f38",
   "metadata": {},
   "source": [
    "\n",
    " \n"
   ]
  },
  {
   "cell_type": "code",
   "execution_count": 10,
   "id": "e53196d0",
   "metadata": {},
   "outputs": [
    {
     "name": "stdout",
     "output_type": "stream",
     "text": [
      "Enter a list of words with comma seprated:riotert,weuifgwe,eruitweiuruy\n",
      "Length of longest word: 12\n"
     ]
    }
   ],
   "source": [
    "l1=[]\n",
    "l=list(map(str,input(\"Enter a list of words with comma seprated:\").split(\",\")))\n",
    "for i in l:\n",
    "    l1.append(len(i))\n",
    "print(\"Length of longest word:\",max(l1))"
   ]
  },
  {
   "cell_type": "code",
   "execution_count": null,
   "id": "d9a65326",
   "metadata": {},
   "outputs": [],
   "source": []
  },
  {
   "cell_type": "code",
   "execution_count": null,
   "id": "812eb4b0",
   "metadata": {},
   "outputs": [],
   "source": []
  },
  {
   "cell_type": "code",
   "execution_count": null,
   "id": "a4919448",
   "metadata": {},
   "outputs": [],
   "source": []
  }
 ],
 "metadata": {
  "kernelspec": {
   "display_name": "Python 3 (ipykernel)",
   "language": "python",
   "name": "python3"
  },
  "language_info": {
   "codemirror_mode": {
    "name": "ipython",
    "version": 3
   },
   "file_extension": ".py",
   "mimetype": "text/x-python",
   "name": "python",
   "nbconvert_exporter": "python",
   "pygments_lexer": "ipython3",
   "version": "3.11.5"
  }
 },
 "nbformat": 4,
 "nbformat_minor": 5
}
