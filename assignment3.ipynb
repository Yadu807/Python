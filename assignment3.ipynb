{
 "cells": [
  {
   "cell_type": "code",
   "execution_count": 9,
   "metadata": {},
   "outputs": [
    {
     "name": "stdout",
     "output_type": "stream",
     "text": [
      "Enter the string= apple\n",
      "eppla\n"
     ]
    }
   ],
   "source": [
    "##EXchange first and last character in a string\n",
    "s=(input(\"Enter the string= \"))\n",
    "a=s[0]\n",
    "b=s[-1]\n",
    "print(b+s[1:-1]+a)"
   ]
  },
  {
   "cell_type": "code",
   "execution_count": 15,
   "metadata": {},
   "outputs": [
    {
     "name": "stdout",
     "output_type": "stream",
     "text": [
      "Enter the string= apple\n",
      "aple\n"
     ]
    }
   ],
   "source": [
    "##program to make a string from 1st 2 and last 2 character\n",
    "s=(input(\"Enter the string= \"))\n",
    "a=s[0:2]\n",
    "b=s[-2:]\n",
    "print(a+b)"
   ]
  },
  {
   "cell_type": "code",
   "execution_count": 17,
   "metadata": {},
   "outputs": [
    {
     "name": "stdout",
     "output_type": "stream",
     "text": [
      "Enter the string= black\n",
      "Enter second string= apple\n",
      "blple\n",
      "apack\n"
     ]
    }
   ],
   "source": [
    "##Swap first two char from string from both string\n",
    "s=(input(\"Enter the string= \"))\n",
    "p=(input(\"Enter second string= \"))\n",
    "a=s[0:2]\n",
    "b=p[0:2]\n",
    "print(a+p[2:])\n",
    "print(b+s[2:])"
   ]
  }
 ],
 "metadata": {
  "kernelspec": {
   "display_name": "Python 3 (ipykernel)",
   "language": "python",
   "name": "python3"
  },
  "language_info": {
   "codemirror_mode": {
    "name": "ipython",
    "version": 3
   },
   "file_extension": ".py",
   "mimetype": "text/x-python",
   "name": "python",
   "nbconvert_exporter": "python",
   "pygments_lexer": "ipython3",
   "version": "3.10.12"
  }
 },
 "nbformat": 4,
 "nbformat_minor": 2
}
