{
 "cells": [
  {
   "cell_type": "code",
   "execution_count": 1,
   "metadata": {},
   "outputs": [
    {
     "name": "stdout",
     "output_type": "stream",
     "text": [
      "Enter the string= apple\n",
      "output= eppla\n"
     ]
    }
   ],
   "source": [
    "##EXchange first and last character in a string\n",
    "s=(input(\"Enter the string= \"))\n",
    "a=s[0]\n",
    "b=s[-1]\n",
    "print(\"output=\",b+s[1:-1]+a)"
   ]
  },
  {
   "cell_type": "code",
   "execution_count": 2,
   "metadata": {},
   "outputs": [
    {
     "name": "stdout",
     "output_type": "stream",
     "text": [
      "Enter the string= apple\n",
      "output= aple\n"
     ]
    }
   ],
   "source": [
    "##program to make a string from 1st 2 and last 2 character\n",
    "s=(input(\"Enter the string= \"))\n",
    "a=s[0:2]\n",
    "b=s[-2:]\n",
    "print(\"output=\",a+b)"
   ]
  },
  {
   "cell_type": "code",
   "execution_count": 2,
   "metadata": {},
   "outputs": [
    {
     "name": "stdout",
     "output_type": "stream",
     "text": [
      "Enter the string= hello\n",
      "Enter second string= world\n",
      "output = herld wollo\n"
     ]
    }
   ],
   "source": [
    "##Swap first two char from string from both string\n",
    "s=(input(\"Enter the string= \"))\n",
    "p=(input(\"Enter second string= \"))\n",
    "a=s[0:2]\n",
    "b=p[0:2]\n",
    "print(\"output =\",a+p[2:]+\" \"+b+s[2:])\n"
   ]
  },
  {
   "cell_type": "code",
   "execution_count": 6,
   "metadata": {},
   "outputs": [
    {
     "name": "stdout",
     "output_type": "stream",
     "text": [
      "enter the stringbabble\n",
      "the output is ba$$le\n"
     ]
    }
   ],
   "source": [
    "##replace charecters from astring with $ Except for first string\n",
    "def replace1(s):\n",
    "    firstchar=s[0]\n",
    "    modistr=s[1:].replace(firstchar,\"$\")\n",
    "    print(\"the output is\",firstchar+modistr)\n",
    "    \n",
    "replace1(input(\"enter the string\"))\n",
    "    "
   ]
  },
  {
   "cell_type": "code",
   "execution_count": null,
   "metadata": {},
   "outputs": [],
   "source": []
  }
 ],
 "metadata": {
  "kernelspec": {
   "display_name": "Python 3 (ipykernel)",
   "language": "python",
   "name": "python3"
  },
  "language_info": {
   "codemirror_mode": {
    "name": "ipython",
    "version": 3
   },
   "file_extension": ".py",
   "mimetype": "text/x-python",
   "name": "python",
   "nbconvert_exporter": "python",
   "pygments_lexer": "ipython3",
   "version": "3.10.12"
  }
 },
 "nbformat": 4,
 "nbformat_minor": 2
}
